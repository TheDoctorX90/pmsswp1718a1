xsd_time = ':00"^^<http://www.w3.org/2001/XMLSchema#time>'

newlist = []
for s,p,o in urilist:
    p = '<' + p + '>'
    if 'Έναρξη' in p:
        o = '"' + o + xsd_time
    if 'Λήξη' in p:
        o = '"' + o + xsd_time
    if 'Ημέρα' in p:
        o = '"' + o + '"'
    if 'ionio' in o:
        o = '<' + o + '>'
    newlist.append([s,p,o])
print(newlist)

with open('schedule-test.csv','w',newline='') as ofp:
    writer = csv.writer(ofp)
    for row in newlist:
        writer.writerow(row)
